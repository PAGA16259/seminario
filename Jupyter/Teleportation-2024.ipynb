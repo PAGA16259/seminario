{
 "cells": [
  {
   "cell_type": "markdown",
   "metadata": {
    "colab_type": "text",
    "id": "I0yV2vKA6PeC"
   },
   "source": [
    "Importamos las librerías de interés. QISKit es una librería de IBM para python en la cual podemos ejecutar circuitos tanto en simuladores como en computadoras cuánticas reales."
   ]
  },
  {
   "cell_type": "code",
   "execution_count": 1,
   "metadata": {},
   "outputs": [
    {
     "name": "stdout",
     "output_type": "stream",
     "text": [
      "Collecting qiskit-ibm-runtime\n",
      "  Downloading qiskit_ibm_runtime-0.30.0-py3-none-any.whl.metadata (19 kB)\n",
      "Collecting requests>=2.19 (from qiskit-ibm-runtime)\n",
      "  Downloading requests-2.32.3-py3-none-any.whl.metadata (4.6 kB)\n",
      "Collecting requests-ntlm>=1.1.0 (from qiskit-ibm-runtime)\n",
      "  Downloading requests_ntlm-1.3.0-py3-none-any.whl.metadata (2.4 kB)\n",
      "Collecting numpy>=1.13 (from qiskit-ibm-runtime)\n",
      "  Downloading numpy-2.1.1-cp312-cp312-win_amd64.whl.metadata (59 kB)\n",
      "Collecting urllib3>=1.21.1 (from qiskit-ibm-runtime)\n",
      "  Downloading urllib3-2.2.3-py3-none-any.whl.metadata (6.5 kB)\n",
      "Requirement already satisfied: python-dateutil>=2.8.0 in c:\\users\\notebook\\appdata\\roaming\\python\\python312\\site-packages (from qiskit-ibm-runtime) (2.9.0.post0)\n",
      "Collecting websocket-client>=1.5.1 (from qiskit-ibm-runtime)\n",
      "  Downloading websocket_client-1.8.0-py3-none-any.whl.metadata (8.0 kB)\n",
      "Collecting ibm-platform-services>=0.22.6 (from qiskit-ibm-runtime)\n",
      "  Downloading ibm_platform_services-0.57.1-py3-none-any.whl.metadata (9.1 kB)\n",
      "Collecting pydantic>=2.5.0 (from qiskit-ibm-runtime)\n",
      "  Downloading pydantic-2.9.2-py3-none-any.whl.metadata (149 kB)\n",
      "Collecting qiskit>=1.1.0 (from qiskit-ibm-runtime)\n",
      "  Downloading qiskit-1.2.2-cp38-abi3-win_amd64.whl.metadata (13 kB)\n",
      "Collecting ibm-cloud-sdk-core<4.0.0,>=3.21.0 (from ibm-platform-services>=0.22.6->qiskit-ibm-runtime)\n",
      "  Downloading ibm_cloud_sdk_core-3.21.0-py3-none-any.whl.metadata (8.5 kB)\n",
      "Collecting annotated-types>=0.6.0 (from pydantic>=2.5.0->qiskit-ibm-runtime)\n",
      "  Downloading annotated_types-0.7.0-py3-none-any.whl.metadata (15 kB)\n",
      "Collecting pydantic-core==2.23.4 (from pydantic>=2.5.0->qiskit-ibm-runtime)\n",
      "  Downloading pydantic_core-2.23.4-cp312-none-win_amd64.whl.metadata (6.7 kB)\n",
      "Collecting typing-extensions>=4.6.1 (from pydantic>=2.5.0->qiskit-ibm-runtime)\n",
      "  Downloading typing_extensions-4.12.2-py3-none-any.whl.metadata (3.0 kB)\n",
      "Requirement already satisfied: six>=1.5 in c:\\users\\notebook\\appdata\\roaming\\python\\python312\\site-packages (from python-dateutil>=2.8.0->qiskit-ibm-runtime) (1.16.0)\n",
      "Collecting rustworkx>=0.15.0 (from qiskit>=1.1.0->qiskit-ibm-runtime)\n",
      "  Downloading rustworkx-0.15.1-cp38-abi3-win_amd64.whl.metadata (10 kB)\n",
      "Collecting scipy>=1.5 (from qiskit>=1.1.0->qiskit-ibm-runtime)\n",
      "  Downloading scipy-1.14.1-cp312-cp312-win_amd64.whl.metadata (60 kB)\n",
      "Collecting sympy>=1.3 (from qiskit>=1.1.0->qiskit-ibm-runtime)\n",
      "  Downloading sympy-1.13.3-py3-none-any.whl.metadata (12 kB)\n",
      "Collecting dill>=0.3 (from qiskit>=1.1.0->qiskit-ibm-runtime)\n",
      "  Downloading dill-0.3.8-py3-none-any.whl.metadata (10 kB)\n",
      "Collecting stevedore>=3.0.0 (from qiskit>=1.1.0->qiskit-ibm-runtime)\n",
      "  Downloading stevedore-5.3.0-py3-none-any.whl.metadata (2.3 kB)\n",
      "Collecting symengine>=0.11 (from qiskit>=1.1.0->qiskit-ibm-runtime)\n",
      "  Downloading symengine-0.11.0-cp312-cp312-win_amd64.whl.metadata (1.2 kB)\n",
      "Collecting charset-normalizer<4,>=2 (from requests>=2.19->qiskit-ibm-runtime)\n",
      "  Downloading charset_normalizer-3.3.2-cp312-cp312-win_amd64.whl.metadata (34 kB)\n",
      "Collecting idna<4,>=2.5 (from requests>=2.19->qiskit-ibm-runtime)\n",
      "  Downloading idna-3.10-py3-none-any.whl.metadata (10 kB)\n",
      "Collecting certifi>=2017.4.17 (from requests>=2.19->qiskit-ibm-runtime)\n",
      "  Downloading certifi-2024.8.30-py3-none-any.whl.metadata (2.2 kB)\n",
      "Collecting cryptography>=1.3 (from requests-ntlm>=1.1.0->qiskit-ibm-runtime)\n",
      "  Downloading cryptography-43.0.1-cp39-abi3-win_amd64.whl.metadata (5.4 kB)\n",
      "Collecting pyspnego>=0.4.0 (from requests-ntlm>=1.1.0->qiskit-ibm-runtime)\n",
      "  Downloading pyspnego-0.11.1-py3-none-any.whl.metadata (5.4 kB)\n",
      "Collecting cffi>=1.12 (from cryptography>=1.3->requests-ntlm>=1.1.0->qiskit-ibm-runtime)\n",
      "  Downloading cffi-1.17.1-cp312-cp312-win_amd64.whl.metadata (1.6 kB)\n",
      "Collecting PyJWT<3.0.0,>=2.8.0 (from ibm-cloud-sdk-core<4.0.0,>=3.21.0->ibm-platform-services>=0.22.6->qiskit-ibm-runtime)\n",
      "  Downloading PyJWT-2.9.0-py3-none-any.whl.metadata (3.0 kB)\n",
      "Collecting sspilib>=0.1.0 (from pyspnego>=0.4.0->requests-ntlm>=1.1.0->qiskit-ibm-runtime)\n",
      "  Downloading sspilib-0.1.0-cp312-cp312-win_amd64.whl.metadata (7.4 kB)\n",
      "Collecting pbr>=2.0.0 (from stevedore>=3.0.0->qiskit>=1.1.0->qiskit-ibm-runtime)\n",
      "  Downloading pbr-6.1.0-py2.py3-none-any.whl.metadata (3.4 kB)\n",
      "Collecting mpmath<1.4,>=1.1.0 (from sympy>=1.3->qiskit>=1.1.0->qiskit-ibm-runtime)\n",
      "  Downloading mpmath-1.3.0-py3-none-any.whl.metadata (8.6 kB)\n",
      "Collecting pycparser (from cffi>=1.12->cryptography>=1.3->requests-ntlm>=1.1.0->qiskit-ibm-runtime)\n",
      "  Downloading pycparser-2.22-py3-none-any.whl.metadata (943 bytes)\n",
      "Downloading qiskit_ibm_runtime-0.30.0-py3-none-any.whl (2.9 MB)\n",
      "   ---------------------------------------- 0.0/2.9 MB ? eta -:--:--\n",
      "   ---------- ----------------------------- 0.8/2.9 MB 4.8 MB/s eta 0:00:01\n",
      "   ------------------------ --------------- 1.8/2.9 MB 4.4 MB/s eta 0:00:01\n",
      "   ---------------------------------------  2.9/2.9 MB 4.7 MB/s eta 0:00:01\n",
      "   ---------------------------------------- 2.9/2.9 MB 4.5 MB/s eta 0:00:00\n",
      "Downloading ibm_platform_services-0.57.1-py3-none-any.whl (343 kB)\n",
      "Downloading numpy-2.1.1-cp312-cp312-win_amd64.whl (12.6 MB)\n",
      "   ---------------------------------------- 0.0/12.6 MB ? eta -:--:--\n",
      "   --- ------------------------------------ 1.0/12.6 MB 5.6 MB/s eta 0:00:03\n",
      "   ----- ---------------------------------- 1.8/12.6 MB 5.0 MB/s eta 0:00:03\n",
      "   --------- ------------------------------ 2.9/12.6 MB 4.7 MB/s eta 0:00:03\n",
      "   ----------- ---------------------------- 3.7/12.6 MB 4.7 MB/s eta 0:00:02\n",
      "   --------------- ------------------------ 4.7/12.6 MB 4.7 MB/s eta 0:00:02\n",
      "   ------------------ --------------------- 5.8/12.6 MB 4.8 MB/s eta 0:00:02\n",
      "   ---------------------- ----------------- 7.1/12.6 MB 5.0 MB/s eta 0:00:02\n",
      "   ------------------------- -------------- 7.9/12.6 MB 4.9 MB/s eta 0:00:01\n",
      "   ---------------------------- ----------- 8.9/12.6 MB 4.9 MB/s eta 0:00:01\n",
      "   -------------------------------- ------- 10.2/12.6 MB 4.9 MB/s eta 0:00:01\n",
      "   ----------------------------------- ---- 11.0/12.6 MB 4.9 MB/s eta 0:00:01\n",
      "   -------------------------------------- - 12.1/12.6 MB 4.9 MB/s eta 0:00:01\n",
      "   ---------------------------------------- 12.6/12.6 MB 4.7 MB/s eta 0:00:00\n",
      "Downloading pydantic-2.9.2-py3-none-any.whl (434 kB)\n",
      "Downloading pydantic_core-2.23.4-cp312-none-win_amd64.whl (1.9 MB)\n",
      "   ---------------------------------------- 0.0/1.9 MB ? eta -:--:--\n",
      "   --------------------- ------------------ 1.0/1.9 MB 5.6 MB/s eta 0:00:01\n",
      "   ---------------------------------------- 1.9/1.9 MB 5.3 MB/s eta 0:00:00\n",
      "Downloading qiskit-1.2.2-cp38-abi3-win_amd64.whl (4.6 MB)\n",
      "   ---------------------------------------- 0.0/4.6 MB ? eta -:--:--\n",
      "   ---- ----------------------------------- 0.5/4.6 MB 3.4 MB/s eta 0:00:02\n",
      "   --------------- ------------------------ 1.8/4.6 MB 5.0 MB/s eta 0:00:01\n",
      "   ------------------------- -------------- 2.9/4.6 MB 4.9 MB/s eta 0:00:01\n",
      "   ------------------------------- -------- 3.7/4.6 MB 4.7 MB/s eta 0:00:01\n",
      "   -------------------------------------- - 4.5/4.6 MB 4.6 MB/s eta 0:00:01\n",
      "   ---------------------------------------- 4.6/4.6 MB 4.5 MB/s eta 0:00:00\n",
      "Downloading requests-2.32.3-py3-none-any.whl (64 kB)\n",
      "Downloading requests_ntlm-1.3.0-py3-none-any.whl (6.6 kB)\n",
      "Downloading urllib3-2.2.3-py3-none-any.whl (126 kB)\n",
      "Downloading websocket_client-1.8.0-py3-none-any.whl (58 kB)\n",
      "Downloading annotated_types-0.7.0-py3-none-any.whl (13 kB)\n",
      "Downloading certifi-2024.8.30-py3-none-any.whl (167 kB)\n",
      "Downloading charset_normalizer-3.3.2-cp312-cp312-win_amd64.whl (100 kB)\n",
      "Downloading cryptography-43.0.1-cp39-abi3-win_amd64.whl (3.1 MB)\n",
      "   ---------------------------------------- 0.0/3.1 MB ? eta -:--:--\n",
      "   ---------- ----------------------------- 0.8/3.1 MB 4.2 MB/s eta 0:00:01\n",
      "   ----------------------- ---------------- 1.8/3.1 MB 4.6 MB/s eta 0:00:01\n",
      "   ------------------------------------- -- 2.9/3.1 MB 4.8 MB/s eta 0:00:01\n",
      "   ---------------------------------------- 3.1/3.1 MB 4.7 MB/s eta 0:00:00\n",
      "Downloading dill-0.3.8-py3-none-any.whl (116 kB)\n",
      "Downloading ibm_cloud_sdk_core-3.21.0-py3-none-any.whl (64 kB)\n",
      "Downloading idna-3.10-py3-none-any.whl (70 kB)\n",
      "Downloading pyspnego-0.11.1-py3-none-any.whl (130 kB)\n",
      "Downloading rustworkx-0.15.1-cp38-abi3-win_amd64.whl (1.8 MB)\n",
      "   ---------------------------------------- 0.0/1.8 MB ? eta -:--:--\n",
      "   ----------- ---------------------------- 0.5/1.8 MB 2.1 MB/s eta 0:00:01\n",
      "   ---------------------------------- ----- 1.6/1.8 MB 3.6 MB/s eta 0:00:01\n",
      "   ---------------------------------------- 1.8/1.8 MB 3.4 MB/s eta 0:00:00\n",
      "Downloading scipy-1.14.1-cp312-cp312-win_amd64.whl (44.5 MB)\n",
      "   ---------------------------------------- 0.0/44.5 MB ? eta -:--:--\n",
      "    --------------------------------------- 1.0/44.5 MB 5.0 MB/s eta 0:00:09\n",
      "   - -------------------------------------- 1.8/44.5 MB 5.0 MB/s eta 0:00:09\n",
      "   -- ------------------------------------- 2.9/44.5 MB 5.1 MB/s eta 0:00:09\n",
      "   --- ------------------------------------ 3.9/44.5 MB 4.9 MB/s eta 0:00:09\n",
      "   ---- ----------------------------------- 4.7/44.5 MB 4.9 MB/s eta 0:00:09\n",
      "   ----- ---------------------------------- 5.8/44.5 MB 4.6 MB/s eta 0:00:09\n",
      "   ----- ---------------------------------- 6.3/44.5 MB 4.6 MB/s eta 0:00:09\n",
      "   ------ --------------------------------- 7.3/44.5 MB 4.4 MB/s eta 0:00:09\n",
      "   ------- -------------------------------- 8.4/44.5 MB 4.5 MB/s eta 0:00:08\n",
      "   -------- ------------------------------- 9.2/44.5 MB 4.5 MB/s eta 0:00:08\n",
      "   --------- ------------------------------ 10.2/44.5 MB 4.5 MB/s eta 0:00:08\n",
      "   --------- ------------------------------ 10.7/44.5 MB 4.4 MB/s eta 0:00:08\n",
      "   ---------- ----------------------------- 11.8/44.5 MB 4.4 MB/s eta 0:00:08\n",
      "   ----------- ---------------------------- 12.6/44.5 MB 4.5 MB/s eta 0:00:08\n",
      "   ------------ --------------------------- 13.6/44.5 MB 4.4 MB/s eta 0:00:07\n",
      "   ------------ --------------------------- 14.4/44.5 MB 4.4 MB/s eta 0:00:07\n",
      "   ------------- -------------------------- 15.5/44.5 MB 4.4 MB/s eta 0:00:07\n",
      "   -------------- ------------------------- 16.3/44.5 MB 4.5 MB/s eta 0:00:07\n",
      "   --------------- ------------------------ 17.3/44.5 MB 4.4 MB/s eta 0:00:07\n",
      "   ---------------- ----------------------- 18.1/44.5 MB 4.4 MB/s eta 0:00:07\n",
      "   ---------------- ----------------------- 18.9/44.5 MB 4.4 MB/s eta 0:00:06\n",
      "   ----------------- ---------------------- 19.9/44.5 MB 4.4 MB/s eta 0:00:06\n",
      "   ------------------ --------------------- 20.7/44.5 MB 4.3 MB/s eta 0:00:06\n",
      "   ------------------- -------------------- 21.2/44.5 MB 4.3 MB/s eta 0:00:06\n",
      "   -------------------- ------------------- 22.3/44.5 MB 4.3 MB/s eta 0:00:06\n",
      "   -------------------- ------------------- 23.1/44.5 MB 4.3 MB/s eta 0:00:05\n",
      "   --------------------- ------------------ 24.1/44.5 MB 4.3 MB/s eta 0:00:05\n",
      "   ---------------------- ----------------- 25.2/44.5 MB 4.3 MB/s eta 0:00:05\n",
      "   ----------------------- ---------------- 25.7/44.5 MB 4.3 MB/s eta 0:00:05\n",
      "   ----------------------- ---------------- 26.5/44.5 MB 4.3 MB/s eta 0:00:05\n",
      "   ------------------------ --------------- 27.3/44.5 MB 4.3 MB/s eta 0:00:05\n",
      "   ------------------------- -------------- 28.3/44.5 MB 4.3 MB/s eta 0:00:04\n",
      "   -------------------------- ------------- 29.4/44.5 MB 4.3 MB/s eta 0:00:04\n",
      "   --------------------------- ------------ 30.1/44.5 MB 4.3 MB/s eta 0:00:04\n",
      "   ---------------------------- ----------- 31.2/44.5 MB 4.3 MB/s eta 0:00:04\n",
      "   ---------------------------- ----------- 32.0/44.5 MB 4.3 MB/s eta 0:00:03\n",
      "   ----------------------------- ---------- 32.8/44.5 MB 4.3 MB/s eta 0:00:03\n",
      "   ------------------------------ --------- 33.6/44.5 MB 4.3 MB/s eta 0:00:03\n",
      "   ------------------------------- -------- 34.9/44.5 MB 4.3 MB/s eta 0:00:03\n",
      "   -------------------------------- ------- 35.9/44.5 MB 4.3 MB/s eta 0:00:02\n",
      "   --------------------------------- ------ 37.0/44.5 MB 4.3 MB/s eta 0:00:02\n",
      "   --------------------------------- ------ 37.7/44.5 MB 4.3 MB/s eta 0:00:02\n",
      "   ---------------------------------- ----- 38.8/44.5 MB 4.3 MB/s eta 0:00:02\n",
      "   ----------------------------------- ---- 39.6/44.5 MB 4.3 MB/s eta 0:00:02\n",
      "   ------------------------------------ --- 40.4/44.5 MB 4.3 MB/s eta 0:00:01\n",
      "   ------------------------------------ --- 41.2/44.5 MB 4.3 MB/s eta 0:00:01\n",
      "   ------------------------------------- -- 41.9/44.5 MB 4.3 MB/s eta 0:00:01\n",
      "   -------------------------------------- - 42.7/44.5 MB 4.3 MB/s eta 0:00:01\n",
      "   ---------------------------------------  43.5/44.5 MB 4.3 MB/s eta 0:00:01\n",
      "   ---------------------------------------  44.3/44.5 MB 4.2 MB/s eta 0:00:01\n",
      "   ---------------------------------------- 44.5/44.5 MB 4.2 MB/s eta 0:00:00\n",
      "Downloading stevedore-5.3.0-py3-none-any.whl (49 kB)\n",
      "Downloading symengine-0.11.0-cp312-cp312-win_amd64.whl (16.6 MB)\n",
      "   ---------------------------------------- 0.0/16.6 MB ? eta -:--:--\n",
      "   - -------------------------------------- 0.8/16.6 MB 4.8 MB/s eta 0:00:04\n",
      "   --- ------------------------------------ 1.6/16.6 MB 5.2 MB/s eta 0:00:03\n",
      "   ------ --------------------------------- 2.6/16.6 MB 4.6 MB/s eta 0:00:04\n",
      "   -------- ------------------------------- 3.7/16.6 MB 4.5 MB/s eta 0:00:03\n",
      "   ---------- ----------------------------- 4.5/16.6 MB 4.7 MB/s eta 0:00:03\n",
      "   ------------- -------------------------- 5.5/16.6 MB 4.4 MB/s eta 0:00:03\n",
      "   --------------- ------------------------ 6.3/16.6 MB 4.4 MB/s eta 0:00:03\n",
      "   ----------------- ---------------------- 7.3/16.6 MB 4.5 MB/s eta 0:00:03\n",
      "   -------------------- ------------------- 8.4/16.6 MB 4.5 MB/s eta 0:00:02\n",
      "   ---------------------- ----------------- 9.4/16.6 MB 4.5 MB/s eta 0:00:02\n",
      "   ------------------------- -------------- 10.5/16.6 MB 4.5 MB/s eta 0:00:02\n",
      "   --------------------------- ------------ 11.3/16.6 MB 4.5 MB/s eta 0:00:02\n",
      "   ----------------------------- ---------- 12.1/16.6 MB 4.4 MB/s eta 0:00:02\n",
      "   ------------------------------ --------- 12.8/16.6 MB 4.4 MB/s eta 0:00:01\n",
      "   --------------------------------- ------ 13.9/16.6 MB 4.4 MB/s eta 0:00:01\n",
      "   ----------------------------------- ---- 14.7/16.6 MB 4.4 MB/s eta 0:00:01\n",
      "   ------------------------------------- -- 15.7/16.6 MB 4.4 MB/s eta 0:00:01\n",
      "   ---------------------------------------  16.5/16.6 MB 4.4 MB/s eta 0:00:01\n",
      "   ---------------------------------------- 16.6/16.6 MB 4.3 MB/s eta 0:00:00\n",
      "Downloading sympy-1.13.3-py3-none-any.whl (6.2 MB)\n",
      "   ---------------------------------------- 0.0/6.2 MB ? eta -:--:--\n",
      "   ----- ---------------------------------- 0.8/6.2 MB 4.2 MB/s eta 0:00:02\n",
      "   ----------- ---------------------------- 1.8/6.2 MB 4.8 MB/s eta 0:00:01\n",
      "   ------------------ --------------------- 2.9/6.2 MB 4.7 MB/s eta 0:00:01\n",
      "   ----------------------- ---------------- 3.7/6.2 MB 4.5 MB/s eta 0:00:01\n",
      "   ---------------------------- ----------- 4.5/6.2 MB 4.4 MB/s eta 0:00:01\n",
      "   ----------------------------------- ---- 5.5/6.2 MB 4.4 MB/s eta 0:00:01\n",
      "   ---------------------------------------- 6.2/6.2 MB 4.2 MB/s eta 0:00:00\n",
      "Downloading typing_extensions-4.12.2-py3-none-any.whl (37 kB)\n",
      "Downloading cffi-1.17.1-cp312-cp312-win_amd64.whl (181 kB)\n",
      "Downloading mpmath-1.3.0-py3-none-any.whl (536 kB)\n",
      "   ---------------------------------------- 0.0/536.2 kB ? eta -:--:--\n",
      "   ---------------------------------------- 536.2/536.2 kB 3.5 MB/s eta 0:00:00\n",
      "Downloading pbr-6.1.0-py2.py3-none-any.whl (108 kB)\n",
      "Downloading PyJWT-2.9.0-py3-none-any.whl (22 kB)\n",
      "Downloading sspilib-0.1.0-cp312-cp312-win_amd64.whl (567 kB)\n",
      "   ---------------------------------------- 0.0/567.8 kB ? eta -:--:--\n",
      "   ---------------------------------------- 567.8/567.8 kB 2.8 MB/s eta 0:00:00\n",
      "Downloading pycparser-2.22-py3-none-any.whl (117 kB)\n",
      "Installing collected packages: mpmath, websocket-client, urllib3, typing-extensions, sympy, symengine, sspilib, PyJWT, pycparser, pbr, numpy, idna, dill, charset-normalizer, certifi, annotated-types, stevedore, scipy, rustworkx, requests, pydantic-core, cffi, qiskit, pydantic, ibm-cloud-sdk-core, cryptography, pyspnego, ibm-platform-services, requests-ntlm, qiskit-ibm-runtime\n",
      "Successfully installed PyJWT-2.9.0 annotated-types-0.7.0 certifi-2024.8.30 cffi-1.17.1 charset-normalizer-3.3.2 cryptography-43.0.1 dill-0.3.8 ibm-cloud-sdk-core-3.21.0 ibm-platform-services-0.57.1 idna-3.10 mpmath-1.3.0 numpy-2.1.1 pbr-6.1.0 pycparser-2.22 pydantic-2.9.2 pydantic-core-2.23.4 pyspnego-0.11.1 qiskit-1.2.2 qiskit-ibm-runtime-0.30.0 requests-2.32.3 requests-ntlm-1.3.0 rustworkx-0.15.1 scipy-1.14.1 sspilib-0.1.0 stevedore-5.3.0 symengine-0.11.0 sympy-1.13.3 typing-extensions-4.12.2 urllib3-2.2.3 websocket-client-1.8.0\n",
      "Note: you may need to restart the kernel to use updated packages.\n"
     ]
    },
    {
     "name": "stderr",
     "output_type": "stream",
     "text": [
      "  WARNING: The script wsdump.exe is installed in 'c:\\Users\\notebook\\AppData\\Local\\Programs\\Python\\Python312\\Scripts' which is not on PATH.\n",
      "  Consider adding this directory to PATH or, if you prefer to suppress this warning, use --no-warn-script-location.\n",
      "  WARNING: The script isympy.exe is installed in 'c:\\Users\\notebook\\AppData\\Local\\Programs\\Python\\Python312\\Scripts' which is not on PATH.\n",
      "  Consider adding this directory to PATH or, if you prefer to suppress this warning, use --no-warn-script-location.\n",
      "  WARNING: The script pbr.exe is installed in 'c:\\Users\\notebook\\AppData\\Local\\Programs\\Python\\Python312\\Scripts' which is not on PATH.\n",
      "  Consider adding this directory to PATH or, if you prefer to suppress this warning, use --no-warn-script-location.\n",
      "  WARNING: The scripts f2py.exe and numpy-config.exe are installed in 'c:\\Users\\notebook\\AppData\\Local\\Programs\\Python\\Python312\\Scripts' which is not on PATH.\n",
      "  Consider adding this directory to PATH or, if you prefer to suppress this warning, use --no-warn-script-location.\n",
      "  WARNING: The script normalizer.exe is installed in 'c:\\Users\\notebook\\AppData\\Local\\Programs\\Python\\Python312\\Scripts' which is not on PATH.\n",
      "  Consider adding this directory to PATH or, if you prefer to suppress this warning, use --no-warn-script-location.\n",
      "  WARNING: The script pyspnego-parse.exe is installed in 'c:\\Users\\notebook\\AppData\\Local\\Programs\\Python\\Python312\\Scripts' which is not on PATH.\n",
      "  Consider adding this directory to PATH or, if you prefer to suppress this warning, use --no-warn-script-location.\n"
     ]
    }
   ],
   "source": [
    "%pip install qiskit-ibm-runtime"
   ]
  },
  {
   "cell_type": "code",
   "execution_count": 2,
   "metadata": {},
   "outputs": [
    {
     "name": "stdout",
     "output_type": "stream",
     "text": [
      "Requirement already satisfied: qiskit in c:\\users\\notebook\\appdata\\local\\programs\\python\\python312\\lib\\site-packages (1.2.2)Note: you may need to restart the kernel to use updated packages.\n",
      "\n",
      "Requirement already satisfied: rustworkx>=0.15.0 in c:\\users\\notebook\\appdata\\local\\programs\\python\\python312\\lib\\site-packages (from qiskit) (0.15.1)\n",
      "Requirement already satisfied: numpy<3,>=1.17 in c:\\users\\notebook\\appdata\\local\\programs\\python\\python312\\lib\\site-packages (from qiskit) (2.1.1)\n",
      "Requirement already satisfied: scipy>=1.5 in c:\\users\\notebook\\appdata\\local\\programs\\python\\python312\\lib\\site-packages (from qiskit) (1.14.1)\n",
      "Requirement already satisfied: sympy>=1.3 in c:\\users\\notebook\\appdata\\local\\programs\\python\\python312\\lib\\site-packages (from qiskit) (1.13.3)\n",
      "Requirement already satisfied: dill>=0.3 in c:\\users\\notebook\\appdata\\local\\programs\\python\\python312\\lib\\site-packages (from qiskit) (0.3.8)\n",
      "Requirement already satisfied: python-dateutil>=2.8.0 in c:\\users\\notebook\\appdata\\roaming\\python\\python312\\site-packages (from qiskit) (2.9.0.post0)\n",
      "Requirement already satisfied: stevedore>=3.0.0 in c:\\users\\notebook\\appdata\\local\\programs\\python\\python312\\lib\\site-packages (from qiskit) (5.3.0)\n",
      "Requirement already satisfied: typing-extensions in c:\\users\\notebook\\appdata\\local\\programs\\python\\python312\\lib\\site-packages (from qiskit) (4.12.2)\n",
      "Requirement already satisfied: symengine>=0.11 in c:\\users\\notebook\\appdata\\local\\programs\\python\\python312\\lib\\site-packages (from qiskit) (0.11.0)\n",
      "Requirement already satisfied: six>=1.5 in c:\\users\\notebook\\appdata\\roaming\\python\\python312\\site-packages (from python-dateutil>=2.8.0->qiskit) (1.16.0)\n",
      "Requirement already satisfied: pbr>=2.0.0 in c:\\users\\notebook\\appdata\\local\\programs\\python\\python312\\lib\\site-packages (from stevedore>=3.0.0->qiskit) (6.1.0)\n",
      "Requirement already satisfied: mpmath<1.4,>=1.1.0 in c:\\users\\notebook\\appdata\\local\\programs\\python\\python312\\lib\\site-packages (from sympy>=1.3->qiskit) (1.3.0)\n"
     ]
    }
   ],
   "source": [
    "%pip install qiskit"
   ]
  },
  {
   "cell_type": "code",
   "execution_count": 4,
   "metadata": {},
   "outputs": [
    {
     "name": "stdout",
     "output_type": "stream",
     "text": [
      "Collecting matplotlib\n",
      "  Downloading matplotlib-3.9.2-cp312-cp312-win_amd64.whl.metadata (11 kB)\n",
      "Collecting contourpy>=1.0.1 (from matplotlib)\n",
      "  Downloading contourpy-1.3.0-cp312-cp312-win_amd64.whl.metadata (5.4 kB)\n",
      "Collecting cycler>=0.10 (from matplotlib)\n",
      "  Downloading cycler-0.12.1-py3-none-any.whl.metadata (3.8 kB)\n",
      "Collecting fonttools>=4.22.0 (from matplotlib)\n",
      "  Downloading fonttools-4.54.1-cp312-cp312-win_amd64.whl.metadata (167 kB)\n",
      "Collecting kiwisolver>=1.3.1 (from matplotlib)\n",
      "  Downloading kiwisolver-1.4.7-cp312-cp312-win_amd64.whl.metadata (6.4 kB)\n",
      "Requirement already satisfied: numpy>=1.23 in c:\\users\\notebook\\appdata\\local\\programs\\python\\python312\\lib\\site-packages (from matplotlib) (2.1.1)\n",
      "Requirement already satisfied: packaging>=20.0 in c:\\users\\notebook\\appdata\\roaming\\python\\python312\\site-packages (from matplotlib) (24.1)\n",
      "Collecting pillow>=8 (from matplotlib)\n",
      "  Downloading pillow-10.4.0-cp312-cp312-win_amd64.whl.metadata (9.3 kB)\n",
      "Collecting pyparsing>=2.3.1 (from matplotlib)\n",
      "  Downloading pyparsing-3.1.4-py3-none-any.whl.metadata (5.1 kB)\n",
      "Requirement already satisfied: python-dateutil>=2.7 in c:\\users\\notebook\\appdata\\roaming\\python\\python312\\site-packages (from matplotlib) (2.9.0.post0)\n",
      "Requirement already satisfied: six>=1.5 in c:\\users\\notebook\\appdata\\roaming\\python\\python312\\site-packages (from python-dateutil>=2.7->matplotlib) (1.16.0)\n",
      "Downloading matplotlib-3.9.2-cp312-cp312-win_amd64.whl (7.8 MB)\n",
      "   ---------------------------------------- 0.0/7.8 MB ? eta -:--:--\n",
      "   ---- ----------------------------------- 0.8/7.8 MB 5.6 MB/s eta 0:00:02\n",
      "   --------- ------------------------------ 1.8/7.8 MB 4.8 MB/s eta 0:00:02\n",
      "   ------------- -------------------------- 2.6/7.8 MB 4.7 MB/s eta 0:00:02\n",
      "   ------------------ --------------------- 3.7/7.8 MB 4.7 MB/s eta 0:00:01\n",
      "   ------------------------ --------------- 4.7/7.8 MB 4.6 MB/s eta 0:00:01\n",
      "   ---------------------------- ----------- 5.5/7.8 MB 4.7 MB/s eta 0:00:01\n",
      "   --------------------------------- ------ 6.6/7.8 MB 4.7 MB/s eta 0:00:01\n",
      "   -------------------------------------- - 7.6/7.8 MB 4.7 MB/s eta 0:00:01\n",
      "   ---------------------------------------- 7.8/7.8 MB 4.7 MB/s eta 0:00:00\n",
      "Downloading contourpy-1.3.0-cp312-cp312-win_amd64.whl (218 kB)\n",
      "Downloading cycler-0.12.1-py3-none-any.whl (8.3 kB)\n",
      "Downloading fonttools-4.54.1-cp312-cp312-win_amd64.whl (2.2 MB)\n",
      "   ---------------------------------------- 0.0/2.2 MB ? eta -:--:--\n",
      "   -------------- ------------------------- 0.8/2.2 MB 3.7 MB/s eta 0:00:01\n",
      "   --------------------------------- ------ 1.8/2.2 MB 4.2 MB/s eta 0:00:01\n",
      "   ---------------------------------------- 2.2/2.2 MB 4.4 MB/s eta 0:00:00\n",
      "Downloading kiwisolver-1.4.7-cp312-cp312-win_amd64.whl (55 kB)\n",
      "Downloading pillow-10.4.0-cp312-cp312-win_amd64.whl (2.6 MB)\n",
      "   ---------------------------------------- 0.0/2.6 MB ? eta -:--:--\n",
      "   ------------ --------------------------- 0.8/2.6 MB 3.7 MB/s eta 0:00:01\n",
      "   ------------------------ --------------- 1.6/2.6 MB 3.7 MB/s eta 0:00:01\n",
      "   ---------------------------------------- 2.6/2.6 MB 4.1 MB/s eta 0:00:00\n",
      "Downloading pyparsing-3.1.4-py3-none-any.whl (104 kB)\n",
      "Installing collected packages: pyparsing, pillow, kiwisolver, fonttools, cycler, contourpy, matplotlib\n",
      "Successfully installed contourpy-1.3.0 cycler-0.12.1 fonttools-4.54.1 kiwisolver-1.4.7 matplotlib-3.9.2 pillow-10.4.0 pyparsing-3.1.4\n",
      "Note: you may need to restart the kernel to use updated packages.\n"
     ]
    },
    {
     "name": "stderr",
     "output_type": "stream",
     "text": [
      "  WARNING: The scripts fonttools.exe, pyftmerge.exe, pyftsubset.exe and ttx.exe are installed in 'c:\\Users\\notebook\\AppData\\Local\\Programs\\Python\\Python312\\Scripts' which is not on PATH.\n",
      "  Consider adding this directory to PATH or, if you prefer to suppress this warning, use --no-warn-script-location.\n"
     ]
    }
   ],
   "source": [
    "%pip install matplotlib"
   ]
  },
  {
   "cell_type": "code",
   "execution_count": 7,
   "metadata": {},
   "outputs": [
    {
     "name": "stdout",
     "output_type": "stream",
     "text": [
      "Collecting qiskit_aer\n",
      "  Downloading qiskit_aer-0.15.1-cp312-cp312-win_amd64.whl.metadata (8.2 kB)\n",
      "Requirement already satisfied: qiskit>=1.1.0 in c:\\users\\notebook\\appdata\\local\\programs\\python\\python312\\lib\\site-packages (from qiskit_aer) (1.2.2)\n",
      "Requirement already satisfied: numpy>=1.16.3 in c:\\users\\notebook\\appdata\\local\\programs\\python\\python312\\lib\\site-packages (from qiskit_aer) (2.1.1)\n",
      "Requirement already satisfied: scipy>=1.0 in c:\\users\\notebook\\appdata\\local\\programs\\python\\python312\\lib\\site-packages (from qiskit_aer) (1.14.1)\n",
      "Requirement already satisfied: psutil>=5 in c:\\users\\notebook\\appdata\\roaming\\python\\python312\\site-packages (from qiskit_aer) (6.0.0)\n",
      "Requirement already satisfied: rustworkx>=0.15.0 in c:\\users\\notebook\\appdata\\local\\programs\\python\\python312\\lib\\site-packages (from qiskit>=1.1.0->qiskit_aer) (0.15.1)\n",
      "Requirement already satisfied: sympy>=1.3 in c:\\users\\notebook\\appdata\\local\\programs\\python\\python312\\lib\\site-packages (from qiskit>=1.1.0->qiskit_aer) (1.13.3)\n",
      "Requirement already satisfied: dill>=0.3 in c:\\users\\notebook\\appdata\\local\\programs\\python\\python312\\lib\\site-packages (from qiskit>=1.1.0->qiskit_aer) (0.3.8)\n",
      "Requirement already satisfied: python-dateutil>=2.8.0 in c:\\users\\notebook\\appdata\\roaming\\python\\python312\\site-packages (from qiskit>=1.1.0->qiskit_aer) (2.9.0.post0)\n",
      "Requirement already satisfied: stevedore>=3.0.0 in c:\\users\\notebook\\appdata\\local\\programs\\python\\python312\\lib\\site-packages (from qiskit>=1.1.0->qiskit_aer) (5.3.0)\n",
      "Requirement already satisfied: typing-extensions in c:\\users\\notebook\\appdata\\local\\programs\\python\\python312\\lib\\site-packages (from qiskit>=1.1.0->qiskit_aer) (4.12.2)\n",
      "Requirement already satisfied: symengine>=0.11 in c:\\users\\notebook\\appdata\\local\\programs\\python\\python312\\lib\\site-packages (from qiskit>=1.1.0->qiskit_aer) (0.11.0)\n",
      "Requirement already satisfied: six>=1.5 in c:\\users\\notebook\\appdata\\roaming\\python\\python312\\site-packages (from python-dateutil>=2.8.0->qiskit>=1.1.0->qiskit_aer) (1.16.0)\n",
      "Requirement already satisfied: pbr>=2.0.0 in c:\\users\\notebook\\appdata\\local\\programs\\python\\python312\\lib\\site-packages (from stevedore>=3.0.0->qiskit>=1.1.0->qiskit_aer) (6.1.0)\n",
      "Requirement already satisfied: mpmath<1.4,>=1.1.0 in c:\\users\\notebook\\appdata\\local\\programs\\python\\python312\\lib\\site-packages (from sympy>=1.3->qiskit>=1.1.0->qiskit_aer) (1.3.0)\n",
      "Downloading qiskit_aer-0.15.1-cp312-cp312-win_amd64.whl (9.5 MB)\n",
      "   ---------------------------------------- 0.0/9.5 MB ? eta -:--:--\n",
      "   -- ------------------------------------- 0.5/9.5 MB 5.6 MB/s eta 0:00:02\n",
      "   ----- ---------------------------------- 1.3/9.5 MB 3.9 MB/s eta 0:00:03\n",
      "   -------- ------------------------------- 2.1/9.5 MB 3.8 MB/s eta 0:00:02\n",
      "   ------------ --------------------------- 2.9/9.5 MB 3.6 MB/s eta 0:00:02\n",
      "   --------------- ------------------------ 3.7/9.5 MB 3.6 MB/s eta 0:00:02\n",
      "   ------------------- -------------------- 4.7/9.5 MB 3.9 MB/s eta 0:00:02\n",
      "   ------------------------ --------------- 5.8/9.5 MB 4.0 MB/s eta 0:00:01\n",
      "   -------------------------- ------------- 6.3/9.5 MB 3.9 MB/s eta 0:00:01\n",
      "   ----------------------------- ---------- 7.1/9.5 MB 4.0 MB/s eta 0:00:01\n",
      "   ---------------------------------- ----- 8.1/9.5 MB 4.0 MB/s eta 0:00:01\n",
      "   ------------------------------------ --- 8.7/9.5 MB 3.9 MB/s eta 0:00:01\n",
      "   ---------------------------------------- 9.5/9.5 MB 3.9 MB/s eta 0:00:00\n",
      "Installing collected packages: qiskit_aer\n",
      "Successfully installed qiskit_aer-0.15.1\n",
      "Note: you may need to restart the kernel to use updated packages.\n"
     ]
    }
   ],
   "source": [
    "%pip install qiskit_aer"
   ]
  },
  {
   "cell_type": "code",
   "execution_count": 12,
   "metadata": {},
   "outputs": [
    {
     "name": "stdout",
     "output_type": "stream",
     "text": [
      "Collecting pylatexenc\n",
      "  Downloading pylatexenc-2.10.tar.gz (162 kB)\n",
      "  Installing build dependencies: started\n",
      "  Installing build dependencies: finished with status 'done'\n",
      "  Getting requirements to build wheel: started\n",
      "  Getting requirements to build wheel: finished with status 'done'\n",
      "  Preparing metadata (pyproject.toml): started\n",
      "  Preparing metadata (pyproject.toml): finished with status 'done'\n",
      "Building wheels for collected packages: pylatexenc\n",
      "  Building wheel for pylatexenc (pyproject.toml): started\n",
      "  Building wheel for pylatexenc (pyproject.toml): finished with status 'done'\n",
      "  Created wheel for pylatexenc: filename=pylatexenc-2.10-py3-none-any.whl size=136846 sha256=b562576cff486692afde5b2e7db7d68aac1b5d0f3d0728e160f3e0884aaf1246\n",
      "  Stored in directory: c:\\users\\notebook\\appdata\\local\\pip\\cache\\wheels\\06\\3e\\78\\fa1588c1ae991bbfd814af2bcac6cef7a178beee1939180d46\n",
      "Successfully built pylatexenc\n",
      "Installing collected packages: pylatexenc\n",
      "Successfully installed pylatexenc-2.10\n",
      "Note: you may need to restart the kernel to use updated packages.\n"
     ]
    },
    {
     "name": "stderr",
     "output_type": "stream",
     "text": [
      "  WARNING: The scripts latex2text.exe, latexencode.exe and latexwalker.exe are installed in 'c:\\Users\\notebook\\AppData\\Local\\Programs\\Python\\Python312\\Scripts' which is not on PATH.\n",
      "  Consider adding this directory to PATH or, if you prefer to suppress this warning, use --no-warn-script-location.\n"
     ]
    }
   ],
   "source": [
    "%pip install pylatexenc"
   ]
  },
  {
   "cell_type": "code",
   "execution_count": 1,
   "metadata": {
    "colab": {},
    "colab_type": "code",
    "id": "EC4Xe7O56Ig2"
   },
   "outputs": [],
   "source": [
    "from qiskit import *\n",
    "# from qiskit import IBMQ en qiskit 1.0 no hace falta\n",
    "# do pip install qiskit-ibm-runtime first\n",
    "from qiskit_ibm_runtime import QiskitRuntimeService\n",
    "from qiskit.visualization import plot_histogram\n",
    "import matplotlib.pyplot as plt"
   ]
  },
  {
   "cell_type": "code",
   "execution_count": 2,
   "metadata": {},
   "outputs": [],
   "source": [
    "from qiskit import QuantumCircuit\n",
    "from qiskit.quantum_info import Statevector, Operator, SparsePauliOp\n",
    "from qiskit.primitives import StatevectorSampler, PrimitiveJob\n",
    "from qiskit.circuit.library import TwoLocal\n",
    "from qiskit.transpiler.preset_passmanagers import generate_preset_pass_manager\n",
    "from qiskit.visualization import plot_histogram\n",
    "from qiskit_ibm_runtime.fake_provider import FakeSherbrooke\n",
    "from qiskit_ibm_runtime import Session, EstimatorV2 as Estimator\n",
    "from qiskit_aer import AerSimulator, QasmSimulator"
   ]
  },
  {
   "cell_type": "code",
   "execution_count": 11,
   "metadata": {},
   "outputs": [],
   "source": [
    "QiskitRuntimeService.delete_account()\n",
    "QiskitRuntimeService.save_account(channel=\"ibm_quantum\", token='8a1046d32451c43775fc77c921bdb671cdbd5c9b4a2cec893cae580ebbc93c785f04647c0d559b002b45d01781327e4c8ad9a48646556c44f1ddee20cde57a10', overwrite=True)"
   ]
  },
  {
   "cell_type": "code",
   "execution_count": 9,
   "metadata": {},
   "outputs": [
    {
     "name": "stdout",
     "output_type": "stream",
     "text": [
      "env: QXToken=8a1046d32451c43775fc77c921bdb671cdbd5c9b4a2cec893cae580ebbc93c785f04647c0d559b002b45d01781327e4c8ad9a48646556c44f1ddee20cde57a10#Copiar el token aquí\n"
     ]
    }
   ],
   "source": [
    "### Save API Token, if needed\n",
    "\n",
    "\n",
    "%set_env QXToken=8a1046d32451c43775fc77c921bdb671cdbd5c9b4a2cec893cae580ebbc93c785f04647c0d559b002b45d01781327e4c8ad9a48646556c44f1ddee20cde57a10#Copiar el token aquí\n",
    "\n",
    "# Or save your credentials on disk.\n",
    "\n",
    "# from qiskit_ibm_runtime import QiskitRuntimeService\n",
    "\n",
    "# service = QiskitRuntimeService(\n",
    "#     channel='ibm_quantum',\n",
    "#     instance='events/qc-2024-17/project-1',\n",
    "#     token='6de5d478db5e5ced14129f1fe6c1a405690f788fe796d90e20270c6ddb14e2ff88cfea43a62afd2c3d821a0099e25454ab1d2928cb95d0549b18555b7bcbfab1'\n",
    "# )\n",
    "\n",
    "# Or save your credentials on disk.\n",
    "# QiskitRuntimeService.save_account(channel='ibm_quantum', instance='events/qc-2024-17/project-1', token='ff6d9d4d8fd0351d415becd39c3e7550f6777ede724647bf14d877fdf4ec070af849c29762944dcc228b6b04833569e80ca483a5e66d201e1a8af42e66208eb7')\n",
    "\n",
    "# Or save your credentials on disk.\n",
    "# QiskitRuntimeService.save_account(channel='ibm_quantum', instance='ibm-q/open/main', token='ff6d9d4d8fd0351d415becd39c3e7550f6777ede724647bf14d877fdf4ec070af849c29762944dcc228b6b04833569e80ca483a5e66d201e1a8af42e66208eb7')\n",
    "\n",
    "\n",
    "# Make sure there is no space between the equal sign\n",
    "# and the beginning of your token"
   ]
  },
  {
   "cell_type": "markdown",
   "metadata": {
    "colab_type": "text",
    "id": "J11PPn0-7lOY"
   },
   "source": [
    "Creamos un circuito donde el primer qubit (qubit[0]) será el qubit que deseamos transmitir (Alice), el segundo qubit (qubit[1]) lo utilizaremos como auxiliar y el tercer qubit (qubit[2]) será el qubit que consideraremos como destino (Bob)."
   ]
  },
  {
   "cell_type": "code",
   "execution_count": 3,
   "metadata": {
    "colab": {
     "base_uri": "https://localhost:8080/",
     "height": 170
    },
    "colab_type": "code",
    "id": "TD6cluIG6mIb",
    "outputId": "c9630ea6-4f3a-4b13-8ab5-06c1da0df5c1"
   },
   "outputs": [
    {
     "data": {
      "image/png": "[encoded data removed]",
      "text/plain": [
       "<Figure size 287.496x367.889 with 1 Axes>"
      ]
     },
     "execution_count": 3,
     "metadata": {},
     "output_type": "execute_result"
    }
   ],
   "source": [
    "# Creamos un circuitos cuántico que cuente con 3 bits cuánticos (qubits) y 3 bits clásicos (registros)\n",
    "circuit = QuantumCircuit(3,3)\n",
    "\n",
    "# Aplico una compuerta Hadamard al primer qubits para crear el estado cuántico \n",
    "# que deseo transmitir, en este caso el estado |1>\n",
    "circuit.x(0) \n",
    "\n",
    "# La barrera sirve exclusivamente para separar el circuito en partes\n",
    "circuit.barrier() \n",
    "\n",
    "# Visualizamos el circuito hasta el momento\n",
    "circuit.draw(\"mpl\")"
   ]
  },
  {
   "cell_type": "code",
   "execution_count": 4,
   "metadata": {
    "colab": {
     "base_uri": "https://localhost:8080/",
     "height": 170
    },
    "colab_type": "code",
    "id": "sZtFXqZD7H-L",
    "outputId": "bf61fc72-a4fe-4375-e0fb-77e2859ffda3"
   },
   "outputs": [
    {
     "data": {
      "image/png": "[encoded data removed]",
      "text/plain": [
       "<Figure size 538.33x367.889 with 1 Axes>"
      ]
     },
     "execution_count": 4,
     "metadata": {},
     "output_type": "execute_result"
    }
   ],
   "source": [
    "# Creo el estado de Bell entre # Creo el estado de Bell entre \n",
    "# Alice y el qubit auxiliar\n",
    "circuit.h(1)\n",
    "circuit.cx(1,2)\n",
    "\n",
    "# La barrera sirve exclusivamente para separar el circuito en partes\n",
    "circuit.barrier() \n",
    "\n",
    "# Visualizamos el circuito hasta el momento\n",
    "circuit.draw(\"mpl\")"
   ]
  },
  {
   "cell_type": "code",
   "execution_count": 5,
   "metadata": {
    "colab": {
     "base_uri": "https://localhost:8080/",
     "height": 170
    },
    "colab_type": "code",
    "id": "qBfaZExP8MFE",
    "outputId": "30e6450a-ee23-4bf8-ba7a-72befd6e0347"
   },
   "outputs": [
    {
     "data": {
      "image/png": "[encoded data removed]",
      "text/plain": [
       "<Figure size 789.163x367.889 with 1 Axes>"
      ]
     },
     "execution_count": 5,
     "metadata": {},
     "output_type": "execute_result"
    }
   ],
   "source": [
    "# Coloco las compuertas para crear el circuito de teleportación\n",
    "circuit.cx(0,1)\n",
    "circuit.h(0)\n",
    "\n",
    "# La barrera sirve exclusivamente para separar el circuito en partes\n",
    "circuit.barrier() \n",
    "\n",
    "# Visualizamos el circuito hasta el momento\n",
    "circuit.draw(\"mpl\")"
   ]
  },
  {
   "cell_type": "code",
   "execution_count": 6,
   "metadata": {
    "colab": {
     "base_uri": "https://localhost:8080/",
     "height": 170
    },
    "colab_type": "code",
    "id": "J_DqTfxq8Xv9",
    "outputId": "258a79ff-7004-4844-ba3c-7a3e0316112a"
   },
   "outputs": [
    {
     "data": {
      "image/png": "[encoded data removed]",
      "text/plain": [
       "<Figure size 1040x367.889 with 1 Axes>"
      ]
     },
     "execution_count": 6,
     "metadata": {},
     "output_type": "execute_result"
    }
   ],
   "source": [
    "# Aplico la computerta X a Bob si el valor de Alice es 1 y la compuerta X a Bob  \n",
    "# si el valor del qubit auxiliar es 1\n",
    "circuit.cz(0, 2)\n",
    "circuit.cx(1, 2)\n",
    "\n",
    "# La barrera sirve exclusivamente para separar el circuito en partes\n",
    "circuit.barrier() \n",
    "\n",
    "# Visualizamos el circuito hasta el momento\n",
    "circuit.draw(\"mpl\")"
   ]
  },
  {
   "cell_type": "code",
   "execution_count": 7,
   "metadata": {
    "colab": {
     "base_uri": "https://localhost:8080/",
     "height": 170
    },
    "colab_type": "code",
    "id": "N5WE1a6w87p7",
    "outputId": "3960f312-9dcb-478a-f8f0-c66e974270e2"
   },
   "outputs": [
    {
     "data": {
      "image/png": "[encoded data removed]",
      "text/plain": [
       "<Figure size 1290.83x367.889 with 1 Axes>"
      ]
     },
     "execution_count": 7,
     "metadata": {},
     "output_type": "execute_result"
    }
   ],
   "source": [
    "# Aplico las mediciones al final del circuito para los 3 qubits guardo sus \n",
    "# mediciones en los registros clásicos\n",
    "circuit.measure([0, 1, 2], [0, 1, 2]) \n",
    "\n",
    "# Visualizamos el circuito hasta el momento\n",
    "circuit.draw(\"mpl\")"
   ]
  },
  {
   "cell_type": "code",
   "execution_count": 8,
   "metadata": {},
   "outputs": [
    {
     "data": {
      "image/png": "[encoded data removed]",
      "text/plain": [
       "<Figure size 640x480 with 1 Axes>"
      ]
     },
     "execution_count": 8,
     "metadata": {},
     "output_type": "execute_result"
    }
   ],
   "source": [
    "# Asigno el dispositivo en el cual voy a implementar mi circuito, en este caso,\n",
    "# voy a implementarlo en el 'qasm_simulator' \n",
    "# Defino la ejecución y le asigno la cantidad de veces que se va a ejecutar \n",
    "# circuito (1024 en este caso)\n",
    "\n",
    "backend = QasmSimulator()\n",
    "job = backend.run(circuit, shots=1024)\n",
    "counts = job.result().get_counts()\n",
    "\n",
    "plot_histogram(counts)"
   ]
  },
  {
   "cell_type": "code",
   "execution_count": 12,
   "metadata": {},
   "outputs": [
    {
     "data": {
      "text/plain": [
       "'ibm_brisbane'"
      ]
     },
     "execution_count": 12,
     "metadata": {},
     "output_type": "execute_result"
    }
   ],
   "source": [
    "# To run on hardware, select the backend with the fewest number of jobs in the queue\n",
    "service = QiskitRuntimeService(channel=\"ibm_quantum\")\n",
    "backend = service.least_busy(operational=True, simulator=False)\n",
    "backend.name"
   ]
  },
  {
   "cell_type": "code",
   "execution_count": 13,
   "metadata": {},
   "outputs": [
    {
     "name": "stderr",
     "output_type": "stream",
     "text": [
      "C:\\Users\\notebook\\AppData\\Local\\Temp\\ipykernel_9556\\2941326394.py:4: DeprecationWarning: backend.run() and related sessions methods are deprecated  as of qiskit-ibm-runtime 0.23 and will be removed no sooner than 6 months after the release date. More details can be found in the primitives migration guide https://docs.quantum.ibm.com/migration-guides/qiskit-runtime.\n",
      "  sim_result = backend.run(compiled_circuit).result()\n"
     ]
    }
   ],
   "source": [
    "# For execution\n",
    "\n",
    "compiled_circuit = transpile(circuit, backend)\n",
    "sim_result = backend.run(compiled_circuit).result()\n",
    "counts = sim_result.get_counts()"
   ]
  },
  {
   "cell_type": "code",
   "execution_count": 15,
   "metadata": {},
   "outputs": [
    {
     "data": {
      "image/png": "[encoded data removed]",
      "text/plain": [
       "<Figure size 700x500 with 1 Axes>"
      ]
     },
     "execution_count": 15,
     "metadata": {},
     "output_type": "execute_result"
    }
   ],
   "source": [
    "plot_histogram(counts)"
   ]
  },
  {
   "cell_type": "markdown",
   "metadata": {},
   "source": [
    "Los resultados son interesantes y es adecuado hacer un análisis: si bien el comportamiento general de los sistemas es similar en ambos casos, podemos ver que en el caso del simulador vemos el estado del bit más significativo (mediciones del tercer qubit) es 1 en todos los casos. Esto ocurre ya que el estado que deseabamos transmitir era el |1>. Por lo tanto evidenciamos que la transmición es perfecta en el 100% de los casos.\n",
    "\n",
    "Sin embargo, en el caso que implementamos el circuito en una computadora cuántica real vemos casos en los cuales el bit más significativo es 0, los cual quiere decir que la transferencia falla. Esto ocurre ya que estamos trabajando con una computadora cuántica real con errores que se producen debido a problemas a la hora de aislar el sistema. Estos problemas técnicos producen la decoherencia del sistema y hacen que en algunos casos el circuito falle.\n",
    "\n",
    "Como conclusión, es interesante destacar como con pocas lineas de código podemos implementar facilmente un circuito en una computadora cuántica real y estudiar su comportamiento."
   ]
  },
  {
   "cell_type": "code",
   "execution_count": null,
   "metadata": {},
   "outputs": [],
   "source": []
  }
 ],
 "metadata": {
  "colab": {
   "collapsed_sections": [],
   "name": "ULP_teleportation.ipynb",
   "provenance": []
  },
  "kernelspec": {
   "display_name": "Python 3",
   "language": "python",
   "name": "python3"
  },
  "language_info": {
   "codemirror_mode": {
    "name": "ipython",
    "version": 3
   },
   "file_extension": ".py",
   "mimetype": "text/x-python",
   "name": "python",
   "nbconvert_exporter": "python",
   "pygments_lexer": "ipython3",
   "version": "3.12.6"
  }
 },
 "nbformat": 4,
 "nbformat_minor": 1
}
